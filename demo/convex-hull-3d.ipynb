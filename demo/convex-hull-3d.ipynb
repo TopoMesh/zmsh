{
 "cells": [
  {
   "cell_type": "markdown",
   "metadata": {},
   "source": [
    "Here we'll show a bit about how the convex hull algorithm works for 3D point sets.\n",
    "As we'll see shortly, computing convex hulls is much more difficult in higher dimensions than in 2D because visibility gets more interesting."
   ]
  },
  {
   "cell_type": "code",
   "execution_count": null,
   "metadata": {},
   "outputs": [],
   "source": [
    "import numpy as np\n",
    "rng = np.random.default_rng(seed=1729)\n",
    "num_points = 40\n",
    "X = rng.normal(size=(num_points, 3))"
   ]
  },
  {
   "cell_type": "code",
   "execution_count": null,
   "metadata": {},
   "outputs": [],
   "source": [
    "import pyvista\n",
    "pyvista.set_plot_theme(\"document\")\n",
    "plotter = pyvista.Plotter(notebook=True)\n",
    "plotter.add_points(X, render_points_as_spheres=True, point_size=10)\n",
    "plotter.show()"
   ]
  },
  {
   "cell_type": "code",
   "execution_count": null,
   "metadata": {},
   "outputs": [],
   "source": [
    "import zmsh\n",
    "hull_machine = zmsh.ConvexHullMachine(X)"
   ]
  },
  {
   "cell_type": "code",
   "execution_count": null,
   "metadata": {},
   "outputs": [],
   "source": [
    "from copy import deepcopy\n",
    "geometries = [deepcopy(hull_machine.geometry)]\n",
    "visible_cells_ids = []\n",
    "\n",
    "while not hull_machine.is_done():\n",
    "    vertex_id, cell_ids = hull_machine.visible.get_next_vertex_and_cells()\n",
    "    visible_cells_ids.append(cell_ids)\n",
    "    hull_machine.step()\n",
    "    geometries.append(deepcopy(hull_machine.geometry))\n",
    "    \n",
    "visible_cells_ids.append([])"
   ]
  },
  {
   "cell_type": "markdown",
   "metadata": {},
   "source": [
    "We're doing all our visualization here with [pyvista](https://docs.pyvista.org/), which provides a nice frontend to the Visualization Toolkit or VTK.\n",
    "This package expects the faces of a 3D mesh to be passed in a certain way; the helper function below does the right thing for VTK."
   ]
  },
  {
   "cell_type": "code",
   "execution_count": null,
   "metadata": {},
   "outputs": [],
   "source": [
    "def topology_to_vtk(topology):\n",
    "    faces = []\n",
    "    cells = topology.cells(topology.dimension)\n",
    "    for cell_id in range(len(cells)):\n",
    "        try:\n",
    "            face_ids, matrices = cells.closure(cell_id)\n",
    "            vertices = face_ids[0]\n",
    "            faces.append([len(vertices)] + list(vertices))\n",
    "        except IndexError:\n",
    "            faces.append([0])\n",
    "\n",
    "    return np.hstack(faces)"
   ]
  },
  {
   "cell_type": "markdown",
   "metadata": {},
   "source": [
    "Now we can visualize the progress of the algorithm."
   ]
  },
  {
   "cell_type": "code",
   "execution_count": null,
   "metadata": {},
   "outputs": [],
   "source": [
    "plotter = pyvista.Plotter(notebook=True)\n",
    "plotter.add_points(X, render_points_as_spheres=True, point_size=10)\n",
    "\n",
    "faces = [topology_to_vtk(geometry.topology) for geometry in geometries]\n",
    "kwargs = {\n",
    "    \"name\": \"hull\",\n",
    "    \"show_edges\": True,\n",
    "    \"line_width\": 5,\n",
    "    \"show_scalar_bar\": False,\n",
    "}\n",
    "def create_mesh(index):\n",
    "    surface = pyvista.PolyData(X, faces[int(index)])\n",
    "    num_cells = len(geometries[int(index)].topology.cells(2))\n",
    "    colors = np.zeros(num_cells)\n",
    "    colors[visible_cells_ids[int(index)]] = 1.0\n",
    "    plotter.add_mesh(surface, scalars=colors, **kwargs)\n",
    "    return\n",
    "\n",
    "plotter.add_slider_widget(create_mesh, [0, len(faces)], value=0, title=\"step\")\n",
    "plotter.show()"
   ]
  },
  {
   "cell_type": "markdown",
   "metadata": {},
   "source": [
    "Computing convex hulls in dimension 3 or higher is much more difficult in the 2D case because now multiple hull faces can be visible to the same extreme point."
   ]
  }
 ],
 "metadata": {
  "kernelspec": {
   "display_name": "zmsh",
   "language": "python",
   "name": "zmsh"
  },
  "language_info": {
   "codemirror_mode": {
    "name": "ipython",
    "version": 3
   },
   "file_extension": ".py",
   "mimetype": "text/x-python",
   "name": "python",
   "nbconvert_exporter": "python",
   "pygments_lexer": "ipython3",
   "version": "3.10.4"
  }
 },
 "nbformat": 4,
 "nbformat_minor": 4
}
