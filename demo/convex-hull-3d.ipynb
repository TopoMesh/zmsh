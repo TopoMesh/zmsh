{
 "cells": [
  {
   "cell_type": "markdown",
   "metadata": {},
   "source": [
    "Here we'll show a bit about how the convex hull algorithm works in 3D now."
   ]
  },
  {
   "cell_type": "code",
   "execution_count": null,
   "metadata": {},
   "outputs": [],
   "source": [
    "import numpy as np\n",
    "rng = np.random.default_rng(seed=1729)\n",
    "num_points = 40\n",
    "X = rng.normal(size=(num_points, 3))"
   ]
  },
  {
   "cell_type": "code",
   "execution_count": null,
   "metadata": {},
   "outputs": [],
   "source": [
    "%matplotlib notebook\n",
    "import matplotlib.pyplot as plt\n",
    "import mpl_toolkits.mplot3d\n",
    "fig, axes = plt.subplots(subplot_kw={\"projection\": \"3d\"})\n",
    "axes.scatter(*X.T);"
   ]
  },
  {
   "cell_type": "code",
   "execution_count": null,
   "metadata": {},
   "outputs": [],
   "source": [
    "import zmsh\n",
    "hull_machine = zmsh.ConvexHullMachine(X)\n",
    "geometry = hull_machine.geometry"
   ]
  },
  {
   "cell_type": "code",
   "execution_count": null,
   "metadata": {},
   "outputs": [],
   "source": [
    "from copy import deepcopy\n",
    "geometries = [deepcopy(hull_machine.geometry)]\n",
    "visibility_graphs = [hull_machine.visible]\n",
    "\n",
    "while not hull_machine.is_done():\n",
    "    hull_machine.step()\n",
    "    geometries.append(deepcopy(hull_machine.geometry))\n",
    "    visibility_graphs.append(deepcopy(hull_machine.visible))"
   ]
  },
  {
   "cell_type": "markdown",
   "metadata": {},
   "source": [
    "Now we'll visualize the state of the algorithm at every step.\n",
    "The blue point is known to be an extreme point, so we'll add it to the hull next.\n",
    "The orange faces are visible to this new extreme point; they'll be split at the next iteration."
   ]
  },
  {
   "cell_type": "code",
   "execution_count": null,
   "metadata": {},
   "outputs": [],
   "source": [
    "from ipywidgets import interact\n",
    "fig, ax = plt.subplots(subplot_kw={\"projection\": \"3d\"})\n",
    "\n",
    "@interact(step=(0, len(geometries) - 1))\n",
    "def f(step=0):\n",
    "    ax.clear()\n",
    "    geometry = geometries[step]\n",
    "    \n",
    "    visible = visibility_graphs[step]\n",
    "    num_cells = visible.shape[1]\n",
    "    num_visible_vertices = np.array(\n",
    "        [visible.getcol(cell_id).nnz for cell_id in range(num_cells)]\n",
    "    )\n",
    "    cell_id = np.argmax(num_visible_vertices)\n",
    "    vertex_id = np.argmin(visible.getcol(cell_id))\n",
    "    cell_ids = visible.getrow(vertex_id).nonzero()[1]\n",
    "\n",
    "    colors = np.full(num_cells, \"tab:blue\", dtype=object)\n",
    "    colors[cell_ids] = \"tab:orange\"\n",
    "    zmsh.visualize(geometry, dimension=2, colors=colors, ax=ax)\n",
    "    zmsh.visualize(geometry, dimension=1, ax=ax)\n",
    "    \n",
    "    colors = np.full(X.shape[0], \"black\", dtype=object)\n",
    "    colors[vertex_id] = \"tab:blue\"\n",
    "    zmsh.visualize(geometry, dimension=0, colors=colors, ax=ax)"
   ]
  },
  {
   "cell_type": "markdown",
   "metadata": {},
   "source": [
    "Computing convex hulls in dimension 3 or higher is much more difficult in the 2D case because now multiple hull faces can be visible to the same extreme point."
   ]
  }
 ],
 "metadata": {
  "kernelspec": {
   "display_name": "zmsh",
   "language": "python",
   "name": "zmsh"
  },
  "language_info": {
   "codemirror_mode": {
    "name": "ipython",
    "version": 3
   },
   "file_extension": ".py",
   "mimetype": "text/x-python",
   "name": "python",
   "nbconvert_exporter": "python",
   "pygments_lexer": "ipython3",
   "version": "3.10.4"
  }
 },
 "nbformat": 4,
 "nbformat_minor": 4
}
