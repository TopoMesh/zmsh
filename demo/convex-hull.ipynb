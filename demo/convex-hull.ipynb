{
 "cells": [
  {
   "cell_type": "markdown",
   "metadata": {},
   "source": [
    "Here we'll show some of the inner workings of the algorithm to compute convex hulls.\n",
    "First, we'll generate a random set of points as our input data using the random number generation routines in numpy.\n",
    "To make sure that this demo gives the same results every time, we'll explicitly seed the RNG with the number 1729, which as we all know is [a rather dull one](https://en.wikipedia.org/wiki/1729_(number))."
   ]
  },
  {
   "cell_type": "code",
   "execution_count": null,
   "metadata": {},
   "outputs": [],
   "source": [
    "import numpy as np\n",
    "from numpy import random as random\n",
    "rng = random.default_rng(seed=1729)\n",
    "num_points = 120\n",
    "X = rng.uniform(size=(num_points, 2))"
   ]
  },
  {
   "cell_type": "code",
   "execution_count": null,
   "metadata": {},
   "outputs": [],
   "source": [
    "%matplotlib inline\n",
    "import matplotlib.pyplot as plt\n",
    "fig, axes = plt.subplots()\n",
    "axes.set_aspect(\"equal\")\n",
    "axes.scatter(X[:, 0], X[:, 1]);"
   ]
  },
  {
   "cell_type": "markdown",
   "metadata": {},
   "source": [
    "To start calculating the convex hull, we'll create a state machine object which we'll call `hull_machine`.\n",
    "This state machine stores the current value of the hull geometry in the member `geometry` as well as some ancillary data for the algorithm, like a queue of which edges to inspect next."
   ]
  },
  {
   "cell_type": "code",
   "execution_count": null,
   "metadata": {},
   "outputs": [],
   "source": [
    "import zmsh\n",
    "hull_machine = zmsh.ConvexHullMachine(X)\n",
    "geometry = hull_machine.geometry"
   ]
  },
  {
   "cell_type": "markdown",
   "metadata": {},
   "source": [
    "The two methods of the hull machine that we care about are `step` and `is_done`.\n",
    "The `step` method will inspect an edge of the hull to see whether there's a hull point across from it.\n",
    "If there is a hull point across that edge, the edge will be split in two along the new hull point.\n",
    "Then any points inside the triangle formed by the old edge and the two new edges will be filtered out as candidate hull points.\n",
    "If not, then nothing will happen.\n",
    "\n",
    "To see how this works, we'll step through the hull machine until it's complete.\n",
    "At every iteration, we'll copy the current value of the topology, the list of candidate points that might be on the convex hull, and the queue of edges to inspect."
   ]
  },
  {
   "cell_type": "code",
   "execution_count": null,
   "metadata": {},
   "outputs": [],
   "source": [
    "from copy import deepcopy\n",
    "geometries = [deepcopy(hull_machine.geometry)]\n",
    "candidate_lists = [list(hull_machine.candidates)]\n",
    "edge_queues = [deepcopy(hull_machine.edge_queue)]\n",
    "\n",
    "while not hull_machine.is_done():\n",
    "    hull_machine.step()\n",
    "    geometries.append(deepcopy(hull_machine.geometry))\n",
    "    candidate_lists.append(list(hull_machine.candidates))\n",
    "    edge_queues.append(deepcopy(hull_machine.edge_queue))"
   ]
  },
  {
   "cell_type": "markdown",
   "metadata": {},
   "source": [
    "Now we'll visualize the state of the algorithm at every step.\n",
    "Orange points are definitely on the convex hull, as are orange edges.\n",
    "Blue points might or might not be on the hull and you can see as you step through the algorithm how they become orange once it's obvious that they're inside the current hull.\n",
    "Blue edges might be on the hull, or they might get split later by the \"absorption\" of a new hull point."
   ]
  },
  {
   "cell_type": "code",
   "execution_count": null,
   "metadata": {},
   "outputs": [],
   "source": [
    "from ipywidgets import interact\n",
    "@interact(step=(0, len(geometries) - 1))\n",
    "def f(step=0):\n",
    "    geometry = geometries[step]\n",
    "    \n",
    "    fig, ax = plt.subplots()\n",
    "    ax.set_aspect(\"equal\")\n",
    "\n",
    "    colors = np.full(len(X), \"tab:orange\")\n",
    "    colors[candidate_lists[step]] = \"tab:blue\"\n",
    "    zmsh.visualize(geometry, dimension=0, colors=colors, ax=ax)\n",
    "\n",
    "    colors = [\n",
    "        \"tab:blue\" if index in edge_queus[step] else \"tab:orange\"\n",
    "        for index in range(len(geometry.topology.cells(1)))\n",
    "    ]\n",
    "    zmsh.visualize(geometry, dimension=1, colors=colors, ax=ax)"
   ]
  },
  {
   "cell_type": "markdown",
   "metadata": {},
   "source": [
    "One of the reasons why we use a first-in, first-out queue to prioritize the edges is because this strategy tends to eliminate the largest number of candidate points the soonest.\n",
    "The time to execute a single step of the algorithm is proportional to the number of extant candidate points, so by eliminating as many as possible early on, we can keep the total run time lower.\n",
    "\n",
    "The algorithm is done when either there are no more edges to inspect or there are no more candidate points left.\n",
    "For this particular problem instance, termination occurred because the candidate points ran out before the edge queue did.\n",
    "\n",
    "We used a random point set for demonstrative purposes here.\n",
    "Randomized testing is an extraordinarily useful tool, but computational geometry is full of really dreadful edge cases.\n",
    "For example, what happens if there are three collinear points on the convex hull of a point set?\n",
    "The middle point isn't necessary to describe the hull; should we include it or not?\n",
    "The algorithm we used here does include all points exactly on the hull, including collinear ones.\n",
    "But generating three collinear points at random using 64-bit floating point arithmetic is so unlikely that it's practically impossible.\n",
    "So a naive randomized test suite would be unlikely to find this edge case and the test suite for zmsh explicitly checks for it.\n",
    "\n",
    "Similarly, the acceleration strategy that we use based on eliminating candidate points works well for randomly-distributed inputs.\n",
    "But if the input points all lie on a circle then this strategy wastes time and the algorithm runs in time $\\mathcal{O}(n^2)$.\n",
    "This edge case won't make the algorithm fail to return a correct result, which collinear points could, so in that sense it's less severe.\n",
    "You can think of this edge case as being similar to applying quicksort on an already-sorted list."
   ]
  }
 ],
 "metadata": {
  "kernelspec": {
   "display_name": "zmsh",
   "language": "python",
   "name": "zmsh"
  },
  "language_info": {
   "name": "python",
   "pygments_lexer": "ipython3"
  }
 },
 "nbformat": 4,
 "nbformat_minor": 4
}
