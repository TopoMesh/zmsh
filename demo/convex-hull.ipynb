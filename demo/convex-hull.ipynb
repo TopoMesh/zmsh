{
 "cells": [
  {
   "cell_type": "markdown",
   "metadata": {},
   "source": [
    "Here we'll show some of the inner workings of the algorithm to compute convex hulls.\n",
    "First, we'll generate a random set of points as our input data using the random number generation routines in numpy.\n",
    "To make sure that this demo gives the same results every time, we'll explicitly seed the RNG with the number 1729, which as we all know is [a rather dull one](https://en.wikipedia.org/wiki/1729_(number))."
   ]
  },
  {
   "cell_type": "code",
   "execution_count": null,
   "metadata": {},
   "outputs": [],
   "source": [
    "import numpy as np\n",
    "rng = np.random.default_rng(seed=1729)\n",
    "num_points = 120\n",
    "X = rng.normal(size=(num_points, 2))"
   ]
  },
  {
   "cell_type": "code",
   "execution_count": null,
   "metadata": {},
   "outputs": [],
   "source": [
    "%matplotlib inline\n",
    "import matplotlib.pyplot as plt\n",
    "fig, axes = plt.subplots()\n",
    "axes.set_aspect(\"equal\")\n",
    "axes.scatter(X[:, 0], X[:, 1]);"
   ]
  },
  {
   "cell_type": "markdown",
   "metadata": {},
   "source": [
    "To start calculating the convex hull, we'll create a state machine object which we'll call `hull_machine`.\n",
    "This state machine stores two pieces of data:\n",
    "1. the current value of the hull geometry in the member `geometry`\n",
    "2. the *visibility graph* in the member `visible`.\n",
    "\n",
    "The visibility graph is a weighted bipartite graph between the vertices and the faces of the hull.\n",
    "The weighting factor between a vertex $v$ and an edge $e$ is the signed area of the triangle formed by $v$ and $e$."
   ]
  },
  {
   "cell_type": "code",
   "execution_count": null,
   "metadata": {},
   "outputs": [],
   "source": [
    "import zmsh\n",
    "hull_machine = zmsh.ConvexHullMachine(X)\n",
    "geometry = hull_machine.geometry"
   ]
  },
  {
   "cell_type": "markdown",
   "metadata": {},
   "source": [
    "The two methods of the hull machine that we care about are `step` and `is_done`.\n",
    "The `step` method will find whichever edge of the hull can see the greatest number of points, and then split it along whichever visible point is most extreme.\n",
    "Any points inside the triangle formed by the old edge and the two new edges will be filtered out as candidate hull points.\n",
    "\n",
    "To see how this works, we'll step through the hull machine until it's complete.\n",
    "At every iteration, we'll copy the current value of the topology and the visibility graph."
   ]
  },
  {
   "cell_type": "code",
   "execution_count": null,
   "metadata": {},
   "outputs": [],
   "source": [
    "from copy import deepcopy\n",
    "geometries = [deepcopy(hull_machine.geometry)]\n",
    "visibility_graphs = [deepcopy(hull_machine.visible)]\n",
    "next_cell_ids = [hull_machine.get_next_cell_id()]\n",
    "best_vertex_ids = [hull_machine.best_candidate(next_cell_ids[-1])]\n",
    "\n",
    "while not hull_machine.is_done():\n",
    "    hull_machine.step()\n",
    "    geometries.append(deepcopy(hull_machine.geometry))\n",
    "    visibility_graphs.append(deepcopy(hull_machine.visible))\n",
    "    next_cell_ids.append(hull_machine.get_next_cell_id())\n",
    "    best_vertex_ids.append(hull_machine.best_candidate(next_cell_ids[-1]))"
   ]
  },
  {
   "cell_type": "markdown",
   "metadata": {},
   "source": [
    "Now we'll visualize the state of the algorithm at every step.\n",
    "The orange edge is the next one that we'll split, the blue vertices are visible from that edge, and the orange vertex is the most extreme of the visible vertices."
   ]
  },
  {
   "cell_type": "code",
   "execution_count": null,
   "metadata": {},
   "outputs": [],
   "source": [
    "from ipywidgets import interact\n",
    "@interact(step=(0, len(geometries) - 1))\n",
    "def f(step=0):\n",
    "    geometry = geometries[step]\n",
    "    visible = visibility_graphs[step]\n",
    "    next_cell_id = next_cell_ids[step]\n",
    "\n",
    "    fig, ax = plt.subplots()\n",
    "    ax.set_aspect(\"equal\")\n",
    "\n",
    "    num_cells = visible.shape[1]\n",
    "    visible_vertex_ids = visible.getcol(next_cell_id).nonzero()[0]\n",
    "    best_vertex_id = np.argmin(visible.getcol(next_cell_id))\n",
    "\n",
    "    colors = len(X) * [\"black\"]\n",
    "    for vertex_id in visible_vertex_ids:\n",
    "        colors[vertex_id] = \"tab:blue\"\n",
    "    colors[best_vertex_id] = \"tab:orange\"\n",
    "    zmsh.visualize(geometry, dimension=0, colors=colors, ax=ax)\n",
    "\n",
    "    colors = num_cells * [\"tab:blue\"]\n",
    "    colors[next_cell_id] = \"tab:orange\"\n",
    "    zmsh.visualize(geometry, dimension=1, colors=colors, ax=ax)"
   ]
  },
  {
   "cell_type": "markdown",
   "metadata": {},
   "source": [
    "We used a random point set for demonstrative purposes here.\n",
    "Randomized testing is an extraordinarily useful tool, but computational geometry is full of really dreadful edge cases.\n",
    "For example, what happens if there are three collinear points on the convex hull of a point set?\n",
    "The middle point isn't necessary to describe the hull; should we include it or not?\n",
    "The algorithm we used here doesn't include these extraneous collinear points.\n",
    "But generating three collinear points at random using 64-bit floating point arithmetic is so unlikely that it's practically impossible.\n",
    "So a naive randomized test suite would be unlikely to find this edge case and the test suite for zmsh explicitly checks for it.\n",
    "\n",
    "Similarly, the acceleration strategy that we use based on eliminating candidate points works well for randomly-distributed inputs.\n",
    "But if the input points all lie on a circle then this strategy wastes time and the algorithm runs in time $\\mathcal{O}(n^2)$.\n",
    "This edge case won't make the algorithm fail to return a correct result, which collinear points could, so in that sense it's less severe.\n",
    "You can think of this edge case as being similar to applying quicksort on an already-sorted list."
   ]
  }
 ],
 "metadata": {
  "kernelspec": {
   "display_name": "zmsh",
   "language": "python",
   "name": "zmsh"
  },
  "language_info": {
   "name": "python",
   "pygments_lexer": "ipython3"
  }
 },
 "nbformat": 4,
 "nbformat_minor": 4
}
